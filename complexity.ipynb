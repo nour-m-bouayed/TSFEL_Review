{
 "cells": [
  {
   "cell_type": "code",
   "execution_count": null,
   "metadata": {},
   "outputs": [],
   "source": [
    "import tsfel\n",
    "import json\n",
    "\n",
    "def compute_feature_complexities(cfg, json_path):\n",
    "    complexities = {}\n",
    "    for domain, features in cfg.items():\n",
    "        for feature in features:\n",
    "            complexity = tsfel.feature_complexity(feature, domain, json_path)\n",
    "            complexities[f\"{domain}.{feature}\"] = complexity\n",
    "    return complexities\n"
   ]
  },
  {
   "cell_type": "code",
   "execution_count": null,
   "metadata": {},
   "outputs": [],
   "source": [
    "cfg = tsfel.get_features_by_domain()\n"
   ]
  },
  {
   "cell_type": "code",
   "execution_count": null,
   "metadata": {},
   "outputs": [],
   "source": [
    "# Replace with the path to your specific JSON configuration file\n",
    "json_path = \"path_to_your_feature_config.json\"\n",
    "feature_complexities = compute_feature_complexities(cfg, json_path)\n"
   ]
  },
  {
   "cell_type": "code",
   "execution_count": null,
   "metadata": {},
   "outputs": [],
   "source": [
    "max_complexity = 10  # Set your complexity threshold\n",
    "\n",
    "# Filter the configuration to include only features below the complexity threshold\n",
    "filtered_cfg = {domain: {feature: details for feature, details in features.items() if feature_complexities[f\"{domain}.{feature}\"] <= max_complexity} for domain, features in cfg.items()}\n",
    "\n",
    "# Proceed with feature extraction using the filtered configuration\n"
   ]
  }
 ],
 "metadata": {
  "language_info": {
   "name": "python"
  }
 },
 "nbformat": 4,
 "nbformat_minor": 2
}
